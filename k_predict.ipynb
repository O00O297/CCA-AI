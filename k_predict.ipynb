{
  "nbformat": 4,
  "nbformat_minor": 0,
  "metadata": {
    "colab": {
      "name": "k_predict.ipynb",
      "provenance": [],
      "authorship_tag": "ABX9TyM8WN+iv+w0wMX8YzZWj7KX",
      "include_colab_link": true
    },
    "kernelspec": {
      "name": "python3",
      "display_name": "Python 3"
    }
  },
  "cells": [
    {
      "cell_type": "markdown",
      "metadata": {
        "id": "view-in-github",
        "colab_type": "text"
      },
      "source": [
        "<a href=\"https://colab.research.google.com/github/O00O297/CCA-AI/blob/master/k_predict.ipynb\" target=\"_parent\"><img src=\"https://colab.research.google.com/assets/colab-badge.svg\" alt=\"Open In Colab\"/></a>"
      ]
    },
    {
      "cell_type": "code",
      "metadata": {
        "id": "8KGsadKrgn1J"
      },
      "source": [
        "!pip install mahotas"
      ],
      "execution_count": null,
      "outputs": []
    },
    {
      "cell_type": "code",
      "metadata": {
        "id": "lUvxHslJhD_F"
      },
      "source": [
        "import numpy as np"
      ],
      "execution_count": null,
      "outputs": []
    },
    {
      "cell_type": "code",
      "metadata": {
        "id": "RWOspxYqhBg1"
      },
      "source": [
        "array_from_file = np.loadtxt(\"/content/drive/Shared drives/CCA-AI Slide/Dataset/kmean_centroid/glcm_5_2.txt\")\n",
        "print(array_from_file.shape)"
      ],
      "execution_count": null,
      "outputs": []
    },
    {
      "cell_type": "code",
      "metadata": {
        "id": "Bdop1xOrhIAs"
      },
      "source": [
        "def GLCMharalick(img):\n",
        "  texture = mt.features.haralick(img2gray).flatten()\n",
        "  return texture\n",
        "  \n",
        "def k_meanPredict(x_data):\n",
        "  slide_dict = np.empty(0)\n",
        "  for data in x_data:\n",
        "    class_label =  np.empty(0)\n",
        "    for centroid in array_from_file :\n",
        "      dst = distance.euclidean(centroid, data)\n",
        "      class_label = np.append(class_label,dst)\n",
        "    slide_dict = np.append(slide_dict, class_label.argmin())\n",
        "  slide_dict = slide_dict.astype(np.int32)\n",
        "  return slide_dict\n",
        "def histogramTiles(h_data):\n",
        "  his = [0] * 10\n",
        "  for i in range(10):\n",
        "    his[i] = h_data.count(i)\n",
        "  return his"
      ],
      "execution_count": null,
      "outputs": []
    },
    {
      "cell_type": "code",
      "metadata": {
        "id": "tARUMprghE_s"
      },
      "source": [
        "mypath = \"/content/drive/Shared drives/CCA-AI Slide/CCA/S63-02731/S63-2731-1A/\"\n",
        "imgs = [cv2.imread(file,0) for file in glob.glob(mypath+\"*.tiff\")]"
      ],
      "execution_count": null,
      "outputs": []
    },
    {
      "cell_type": "code",
      "metadata": {
        "id": "aipseti2hOgc"
      },
      "source": [
        "for img in imgs:\n",
        "  feature = GLCMharalick(img)\n",
        "  x_data = np.append(x_data, [feature], axis = 0)\n",
        "histogram = k_meanPredict(x_data)\n",
        "h_data = histogram.tolist()\n",
        "h_dataCount = histogramTiles(h_data)\n",
        "\n",
        "h_dataCount.insert(0,x)\n",
        "print(h_dataCount)\n",
        "with open(\"/content/drive/Shared drives/CCA-AI Slide/testCCA_S63-2731-1A.csv\", 'a', newline='') as myfile:\n",
        "  wr = csv.writer(myfile, quoting=csv.QUOTE_ALL)\n",
        "  wr.writerow(h_dataCount)\n",
        "\n",
        "\n",
        "# path_centroid = \"/content/drive/Shared drives/CCA-AI Slide/Dataset/glcm_5_predict_S63-2731-1A.txt\"\n",
        "# np.savetxt(path_centroid, histogram , fmt=\"%s\")"
      ],
      "execution_count": null,
      "outputs": []
    },
    {
      "cell_type": "code",
      "metadata": {
        "id": "gOvfWO8SiGy_"
      },
      "source": [
        "import numpy as np\n",
        "from sklearn.preprocessing import MinMaxScaler\n",
        "import pandas as pd \n",
        "  \n",
        "# reading csv file  \n",
        "data = pd.read_csv('/content/drive/Shared drives/CCA-AI Slide/F_KMean_haralik/testCCA_S63-03788.csv',header=None) \n",
        "\n",
        "arr = data[data.columns[1:]].to_numpy()\n",
        "\n",
        "scaler = MinMaxScaler()\n",
        "# print(arr.shape)\n",
        "data_scaling = np.empty((0,10), float)\n",
        "\n",
        "# val = scaler.fit_transform((arr[0]).reshape(-1, 1)) *10\n",
        "print(data_scaling.shape)\n",
        "for value in arr:\n",
        "  val = (scaler.fit_transform((value).reshape(-1, 1)) *10).transpose()\n",
        "  \n",
        "  data_scaling = np.append(data_scaling, val, axis=0)\n",
        "print(data[data.columns[0]])\n",
        "print(data_scaling)\n",
        "np.savetxt(\"/content/drive/Shared drives/CCA-AI Slide/F_KMean_haralik/Scailing/scaling_CCA_03788.csv\", data_scaling, delimiter=\",\")\n"
      ],
      "execution_count": null,
      "outputs": []
    }
  ]
}