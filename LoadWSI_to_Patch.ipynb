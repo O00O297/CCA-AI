{
  "nbformat": 4,
  "nbformat_minor": 0,
  "metadata": {
    "colab": {
      "name": "Untitled4.ipynb",
      "provenance": [],
      "authorship_tag": "ABX9TyOCqk+iGMmRZDt5T2cD1sRc",
      "include_colab_link": true
    },
    "kernelspec": {
      "name": "python3",
      "display_name": "Python 3"
    }
  },
  "cells": [
    {
      "cell_type": "markdown",
      "metadata": {
        "id": "view-in-github",
        "colab_type": "text"
      },
      "source": [
        "<a href=\"https://colab.research.google.com/github/O00O297/CCA-AI/blob/master/LoadWSI_to_Patch.ipynb\" target=\"_parent\"><img src=\"https://colab.research.google.com/assets/colab-badge.svg\" alt=\"Open In Colab\"/></a>"
      ]
    },
    {
      "cell_type": "code",
      "metadata": {
        "id": "KoPLIwgEb53x"
      },
      "source": [
        "!pip install histomicstk --find-links https://girder.github.io/large_image_wheels\n",
        "!pip install histomicstk\n",
        "!pip install girder_client"
      ],
      "execution_count": null,
      "outputs": []
    },
    {
      "cell_type": "code",
      "metadata": {
        "id": "xS9WLBLCcpNP"
      },
      "source": [
        "import girder_client\n",
        "import numpy as np\n",
        "from skimage.transform import resize\n",
        "from matplotlib import pylab as plt\n",
        "from matplotlib.colors import ListedColormap\n",
        "from histomicstk.preprocessing.color_normalization import reinhard\n",
        "from histomicstk.saliency.tissue_detection import (\n",
        "    get_slide_thumbnail, get_tissue_mask)\n",
        "from histomicstk.annotations_and_masks.annotation_and_mask_utils import (\n",
        "    get_image_from_htk_response)\n",
        "from histomicstk.preprocessing.color_normalization.\\\n",
        "    deconvolution_based_normalization import deconvolution_based_normalization\n",
        "from histomicstk.preprocessing.color_deconvolution.\\\n",
        "    color_deconvolution import color_deconvolution_routine, stain_unmixing_routine\n",
        "from histomicstk.preprocessing.augmentation.\\\n",
        "    color_augmentation import rgb_perturb_stain_concentration, perturb_stain_concentration"
      ],
      "execution_count": null,
      "outputs": []
    },
    {
      "cell_type": "code",
      "metadata": {
        "id": "amLgt8GVcu0f"
      },
      "source": [
        "import cv2\n",
        "import os "
      ],
      "execution_count": null,
      "outputs": []
    },
    {
      "cell_type": "code",
      "metadata": {
        "id": "osdr8Q2Kcq3-"
      },
      "source": [
        "APIURL = 'http://52.230.64.220:8080/api/v1/'\n",
        "gc = girder_client.GirderClient(apiUrl=APIURL)\n",
        "\n",
        "gc.authenticate(apiKey='LrdKJu7VQS4ItfhVIrQCXnWgt1pstHj611gwI3mf')"
      ],
      "execution_count": null,
      "outputs": []
    },
    {
      "cell_type": "code",
      "metadata": {
        "id": "djR8rVUBct7D"
      },
      "source": [
        "def loadTile(SLIDE_ID,SLIDE_PATH,dir_Name):\n",
        "  item_meta = gc.get('item/%s/tiles' % (SLIDE_ID))\n",
        "  w = item_meta[\"sizeX\"]\n",
        "  h = item_meta[\"sizeY\"]\n",
        "  MAG = 5\n",
        "  res = 250\n",
        "\n",
        "  row = int(h*(MAG/40)/res)\n",
        "  column = int(w*(MAG/40)/res)\n",
        "  \n",
        "  for i in range(0,row):\n",
        "    for j in range(0,column):\n",
        "      getStr = \"/item/%s/tiles/region?left=%d&right=%d&top=%d&bottom=%d&units=mag_pixels\" \n",
        "                % (SLIDE_ID, j*res, (j*res)+res, i*res, (i*res)+res) + \"&magnification=%d\" \n",
        "                % MAG +\"&encoding=TIFF&tiffCompression=tiff_lzw\"\n",
        "      ImgTile = get_image_from_htk_response(gc.get(getStr, jsonResp=False))\n",
        "      ImgTile = cv2.cvtColor(ImgTile, cv2.COLOR_RGB2BGR)\n",
        "      Imgname = dir_Name +\"-\"+ str(i) + \"_\" + str(j) + \".tiff\"\n",
        "      status = threshold(ImgTile)\n",
        "      if status:\n",
        "        w = cv2.imwrite(SLIDE_PATH +\"/\"+ Imgname,ImgTile)\n",
        "        # print (Imgname+ \" is \"+ str(w))\n",
        "      \n",
        "\n",
        "def threshold(Img):\n",
        "  \n",
        "  img = cv2.cvtColor(Img, cv2.COLOR_BGR2GRAY) \n",
        "  ret, thresh1 = cv2.threshold(img, 180, 255, cv2.THRESH_BINARY) \n",
        "  no_BPixel = sum(sum(1-(thresh1/255)))\n",
        "  check = (250*250)/5\n",
        "  if no_BPixel > check:\n",
        "    return True\n",
        "  else :\n",
        "    return False"
      ],
      "execution_count": null,
      "outputs": []
    },
    {
      "cell_type": "code",
      "metadata": {
        "id": "g2P320q9c0JO"
      },
      "source": [
        "#load all Slide in case\n",
        "caseId = \"5f111dbf6ba0d1144ddca1a7\"\n",
        "item_info = gc.get('item?folderId=%s&limit=%d&sort=lowerName' % (caseId,50))\n",
        "rootpath = \"/content/drive/Shared drives/CCA-AI Slide/\"\n",
        "Class = \"CCA\"\n",
        "Case = \"S63-04300\"\n",
        "rootpath = rootpath + Class + \"/\" + Case + \"/\"\n",
        "\n",
        "parent_folder = []\n",
        "for item in item_info:\n",
        "  parent_folder.append([item[\"_id\"],item[\"name\"]]) #folder in case\n",
        "print (parent_folder)\n",
        "\n",
        "for p_folder in parent_folder:\n",
        "  print(p_folder[1])\n",
        "  directory = rootpath + p_folder[1] + \"/\"\n",
        "  if not os.listdir(directory) :\n",
        "    loadTile(p_folder[0],directory,p_folder[1])\n",
        "  else :\n",
        "    print(\"is not empty\")\n",
        "    continue"
      ],
      "execution_count": null,
      "outputs": []
    },
    {
      "cell_type": "code",
      "metadata": {
        "id": "ZaMmEqBjc6Zw"
      },
      "source": [
        "#load by Slide\n",
        "SLIDE_ID = \"5f128ed8bf89248c33dd0390\"\n",
        "SLIDE_PATH = \"/content/drive/Shared drives/CCA-AI Slide/HCC/S63-00819/S63-819-1H\"\n",
        "dir_Name = \"S63-00819-1H\"\n",
        "\n",
        "loadTile(SLIDE_ID,SLIDE_PATH,dir_Name)"
      ],
      "execution_count": null,
      "outputs": []
    }
  ]
}