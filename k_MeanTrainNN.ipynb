{
  "nbformat": 4,
  "nbformat_minor": 0,
  "metadata": {
    "colab": {
      "name": "k_MeanTrainNN.ipynb",
      "provenance": [],
      "authorship_tag": "ABX9TyPqQhu8maVGZYjj2WM6ctnv",
      "include_colab_link": true
    },
    "kernelspec": {
      "name": "python3",
      "display_name": "Python 3"
    }
  },
  "cells": [
    {
      "cell_type": "markdown",
      "metadata": {
        "id": "view-in-github",
        "colab_type": "text"
      },
      "source": [
        "<a href=\"https://colab.research.google.com/github/O00O297/CCA-AI/blob/master/k_MeanTrainNN.ipynb\" target=\"_parent\"><img src=\"https://colab.research.google.com/assets/colab-badge.svg\" alt=\"Open In Colab\"/></a>"
      ]
    },
    {
      "cell_type": "code",
      "metadata": {
        "id": "XhVLq93Di1hE"
      },
      "source": [
        "from sklearn.neighbors import KNeighborsClassifier\n",
        "from sklearn.model_selection import train_test_split\n",
        "from sklearn.metrics import classification_report, confusion_matrix\n",
        "from sklearn import metrics\n",
        "import pandas as pd\n",
        "import numpy as np\n",
        "from tensorflow.keras.utils import to_categorical\n",
        "\n",
        "from keras import Sequential\n",
        "from keras.layers import Dense, Conv1D, Dropout, MaxPooling1D,Flatten"
      ],
      "execution_count": null,
      "outputs": []
    },
    {
      "cell_type": "code",
      "metadata": {
        "id": "3Q0D9agKi8Kr"
      },
      "source": [
        "# fit and evaluate a model\n",
        "def evaluate_model(trainX, trainy, testX, testy,x_val,y_val):\n",
        "  verbose, epochs, batch_size = 1, 500, 32\n",
        "  n_features, n_outputs = trainX.shape[1], trainy.shape[1]\n",
        "  model = Sequential()\n",
        "  model.add(Dense(100, activation='relu'))\n",
        "  model.add(Dense(n_outputs, activation='softmax'))\n",
        "  model.compile(loss='categorical_crossentropy', optimizer='adam', metrics=['accuracy'])\n",
        "\t# fit network\n",
        "  model.fit(trainX, trainy, epochs=epochs, batch_size=batch_size, verbose=verbose,validation_data=(x_val, y_val) )\n",
        "\t# evaluate model\n",
        "  _, accuracy = model.evaluate(testX, testy, batch_size=batch_size, verbose=1)\n",
        "  return accuracy"
      ],
      "execution_count": null,
      "outputs": []
    },
    {
      "cell_type": "code",
      "metadata": {
        "id": "1Jg4ZcD1i-tK"
      },
      "source": [
        "urlTrain = \"/content/drive/Shared drives/CCA-AI Slide/F_KMean_haralik/Data/AllTrain.csv\"\n",
        "urlVal  = \"/content/drive/Shared drives/CCA-AI Slide/F_KMean_haralik/Data/AllVal.csv\"\n",
        "urlTest = \"/content/drive/Shared drives/CCA-AI Slide/F_KMean_haralik/Data/AllTest.csv\"\n",
        "\n",
        "dataTrain = pd.read_csv(urlTrain)\n",
        "dataVal = pd.read_csv(urlVal)\n",
        "dataTest = pd.read_csv(urlTest)\n",
        "\n",
        "X_train = dataTrain.iloc[:, :-1].values\n",
        "y_train = dataTrain.iloc[:, 10].values\n",
        "y_train = np.reshape(y_train, (-1, 1)).astype(np.float32)\n",
        "\n",
        "X_val = dataVal.iloc[:, :-1].values\n",
        "y_val = dataVal.iloc[:, 10].values\n",
        "y_val = np.reshape(y_val, (-1, 1)).astype(np.float32)\n",
        "\n",
        "X_test = dataTest.iloc[:, :-1].values\n",
        "y_test = dataTest.iloc[:, 10].values\n",
        "y_test = np.reshape(y_test, (-1, 1)).astype(np.float32)\n",
        "\n",
        "y_train = y_train - 1\n",
        "y_val = y_val - 1\n",
        "y_test = y_test - 1\n",
        "# one hot encode y\n",
        "y_train = to_categorical(y_train)\n",
        "y_val = to_categorical(y_val)\n",
        "y_test = to_categorical(y_test)"
      ],
      "execution_count": null,
      "outputs": []
    },
    {
      "cell_type": "code",
      "metadata": {
        "id": "52FXOZmLjDLa"
      },
      "source": [
        "acc = evaluate_model(X_train, y_train, X_test, y_test, X_val, y_val)\n",
        "print(acc)"
      ],
      "execution_count": null,
      "outputs": []
    }
  ]
}