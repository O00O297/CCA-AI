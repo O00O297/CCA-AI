{
  "nbformat": 4,
  "nbformat_minor": 0,
  "metadata": {
    "colab": {
      "name": "k_meanTrain.ipynb",
      "provenance": [],
      "mount_file_id": "1qQV2LgxuHa0Cp8E1GtL5X5ycO98J4Mua",
      "authorship_tag": "ABX9TyO+C6VPGF7c9luFAwBToiAc",
      "include_colab_link": true
    },
    "kernelspec": {
      "name": "python3",
      "display_name": "Python 3"
    }
  },
  "cells": [
    {
      "cell_type": "markdown",
      "metadata": {
        "id": "view-in-github",
        "colab_type": "text"
      },
      "source": [
        "<a href=\"https://colab.research.google.com/github/O00O297/CCA-AI/blob/master/k_meanTrain.ipynb\" target=\"_parent\"><img src=\"https://colab.research.google.com/assets/colab-badge.svg\" alt=\"Open In Colab\"/></a>"
      ]
    },
    {
      "cell_type": "code",
      "metadata": {
        "id": "i_SPScdpXwhc",
        "outputId": "1aa51443-d79d-4619-f7aa-2943fcad47b3",
        "colab": {
          "base_uri": "https://localhost:8080/",
          "height": 51
        }
      },
      "source": [
        "!pip install mahotas"
      ],
      "execution_count": null,
      "outputs": [
        {
          "output_type": "stream",
          "text": [
            "Requirement already satisfied: mahotas in /usr/local/lib/python3.6/dist-packages (1.4.11)\n",
            "Requirement already satisfied: numpy in /usr/local/lib/python3.6/dist-packages (from mahotas) (1.18.5)\n"
          ],
          "name": "stdout"
        }
      ]
    },
    {
      "cell_type": "code",
      "metadata": {
        "id": "t2X-Tne4YnEu"
      },
      "source": [
        "import cv2\n",
        "from os import walk\n",
        "import natsort\n",
        "import numpy as np \n",
        "import glob\n",
        "import os, sys"
      ],
      "execution_count": null,
      "outputs": []
    },
    {
      "cell_type": "code",
      "metadata": {
        "id": "r2Dd9J3Iu96H"
      },
      "source": [
        "mypath = \"/content/drive/Shared drives/CCA_DATA/KMean/\"\n",
        "imgs = [cv2.imread(mypath+files,0) for files in os.listdir(mypath)]\n",
        "\n",
        "# f = [x[2] for x in walk(mypath)][0]\n",
        "# imagePath = natsort.natsorted(f)\n",
        "# imgs = [cv2.imread(file) for file in imagePath]\n",
        "# for i in range(len(imagePath)):\n",
        "#   img = cv2.imread(mypath+imagePath[i])\n",
        "#   imgs.append(img)"
      ],
      "execution_count": 31,
      "outputs": []
    },
    {
      "cell_type": "code",
      "metadata": {
        "id": "Ks6aJ6PoX03E"
      },
      "source": [
        "import mahotas as mt\n",
        "def GLCMharalick(img):\n",
        "  texture = mt.features.haralick(img).flatten()\n",
        "  return texture"
      ],
      "execution_count": 32,
      "outputs": []
    },
    {
      "cell_type": "code",
      "metadata": {
        "id": "aHu1V4rYYO5i",
        "outputId": "62b0aa73-d5cb-49fa-ce1c-7f9d498f57f5",
        "colab": {
          "base_uri": "https://localhost:8080/",
          "height": 816
        }
      },
      "source": [
        "x_data = np.empty((0,52), int)\n",
        "\n",
        "for index, img in enumerate(imgs):\n",
        "  feature = GLCMharalick(img)\n",
        "  x_data = np.append(x_data, [feature], axis = 0)\n",
        "\n",
        "  \n",
        "  if index % 100 == 0 :\n",
        "    print(index)\n",
        "\n",
        "print(x_data.shape)"
      ],
      "execution_count": 37,
      "outputs": [
        {
          "output_type": "stream",
          "text": [
            "0\n",
            "100\n",
            "200\n",
            "300\n",
            "400\n",
            "500\n",
            "600\n",
            "700\n",
            "800\n",
            "900\n",
            "1000\n",
            "1100\n",
            "1200\n",
            "1300\n",
            "1400\n",
            "1500\n",
            "1600\n",
            "1700\n",
            "1800\n",
            "1900\n",
            "2000\n",
            "2100\n",
            "2200\n",
            "2300\n",
            "2400\n",
            "2500\n",
            "2600\n",
            "2700\n",
            "2800\n",
            "2900\n",
            "3000\n",
            "3100\n",
            "3200\n",
            "3300\n",
            "3400\n",
            "3500\n",
            "3600\n",
            "3700\n",
            "3800\n",
            "3900\n",
            "4000\n",
            "4100\n",
            "4200\n",
            "4300\n",
            "4400\n",
            "4500\n",
            "(4585, 52)\n"
          ],
          "name": "stdout"
        }
      ]
    },
    {
      "cell_type": "code",
      "metadata": {
        "id": "Gw9kOQnJcyEo"
      },
      "source": [
        "from sklearn.cluster import KMeans\n",
        "# Fitting K-Means to the dataset\n",
        "kmeans = KMeans(n_clusters = 5, init = 'k-means++', random_state = 42)\n",
        "y_kmeans = kmeans.fit_predict(x_data)"
      ],
      "execution_count": null,
      "outputs": []
    },
    {
      "cell_type": "code",
      "metadata": {
        "id": "VH5-OvOtdEmX",
        "outputId": "74a20f6d-0cf1-4e6f-8f28-112af23d2f44",
        "colab": {
          "base_uri": "https://localhost:8080/",
          "height": 1000
        }
      },
      "source": [
        "print (kmeans.cluster_centers_)"
      ],
      "execution_count": null,
      "outputs": [
        {
          "output_type": "stream",
          "text": [
            "[[ 4.64289190e-04  1.08101635e+03  6.27824322e-01  1.44016712e+03\n",
            "   7.22869329e-02  3.14284551e+02  4.67965215e+03  7.92261411e+00\n",
            "   1.35022295e+01  7.87483136e-05  5.95998464e+00 -9.97132254e-02\n",
            "   8.53781927e-01  3.78091516e-04  1.55289819e+03  4.65389932e-01\n",
            "   1.44003657e+03  6.16089036e-02  3.14274175e+02  4.20724811e+03\n",
            "   7.84622245e+00  1.36444781e+01  6.38512226e-05  6.21378675e+00\n",
            "  -7.95232904e-02  8.03137676e-01  4.58794788e-04  1.11145073e+03\n",
            "   6.17240752e-01  1.44019281e+03  7.10909959e-02  3.14282303e+02\n",
            "   4.64932051e+03  7.91738147e+00  1.35186009e+01  7.66480991e-05\n",
            "   5.98461758e+00 -9.73946282e-02  8.49266806e-01  3.78098910e-04\n",
            "   1.56277300e+03  4.62653193e-01  1.44003648e+03  6.17485227e-02\n",
            "   3.14274183e+02  4.19737293e+03  7.84588078e+00  1.36449653e+01\n",
            "   6.39733159e-05  6.21478359e+00 -7.94711578e-02  8.02727973e-01]\n",
            " [ 3.17025958e-03  1.13619914e+03  7.28342550e-01  2.05915715e+03\n",
            "   1.45949243e-01  3.40892502e+02  7.10042946e+03  7.80079852e+00\n",
            "   1.28913933e+01  1.44971298e-04  5.74495525e+00 -1.49823726e-01\n",
            "   9.12298977e-01  2.51571528e-03  1.66417187e+03  6.01568943e-01\n",
            "   2.05883770e+03  1.25953591e-01  3.40883046e+02  6.57117894e+03\n",
            "   7.74948662e+00  1.30680994e+01  1.20041793e-04  6.01423950e+00\n",
            "  -1.23757146e-01  8.76412140e-01  3.13636641e-03  1.16695712e+03\n",
            "   7.20511653e-01  2.05898383e+03  1.44583170e-01  3.40886931e+02\n",
            "   7.06897819e+03  7.79693457e+00  1.29079835e+01  1.42757609e-04\n",
            "   5.77142042e+00 -1.47414199e-01  9.10449490e-01  2.51405774e-03\n",
            "   1.68089943e+03  5.98621428e-01  2.05883628e+03  1.26281604e-01\n",
            "   3.40883104e+02  6.55444570e+03  7.74775627e+00  1.30652581e+01\n",
            "   1.20400601e-04  6.01219441e+00 -1.24183133e-01  8.76386145e-01]\n",
            " [ 2.70111985e-04  7.12852699e+02  5.76513412e-01  8.36979567e+02\n",
            "   6.69704936e-02  3.04000338e+02  2.63506557e+03  7.54531911e+00\n",
            "   1.29644280e+01  9.31753551e-05  5.68996739e+00 -7.76435617e-02\n",
            "   7.94397518e-01  2.39035544e-04  1.01008592e+03  4.01252930e-01\n",
            "   8.36828912e+02  5.80941440e-02  3.03997923e+02  2.33722972e+03\n",
            "   7.46528764e+00  1.30915463e+01  7.74564687e-05  5.92699456e+00\n",
            "  -5.86880130e-02  7.26113624e-01  2.69482433e-04  7.26609229e+02\n",
            "   5.68603751e-01  8.36992156e+02  6.63835931e-02  3.04001641e+02\n",
            "   2.62135939e+03  7.54144219e+00  1.29726655e+01  9.22037764e-05\n",
            "   5.70311678e+00 -7.64309143e-02  7.90945167e-01  2.39634196e-04\n",
            "   9.93693567e+02  4.09990432e-01  8.36828672e+02  5.85045074e-02\n",
            "   3.03997909e+02  2.35362112e+03  7.47088753e+00  1.30872291e+01\n",
            "   7.80208317e-05  5.91652329e+00 -5.93092618e-02  7.28855823e-01]\n",
            " [ 4.48771234e-03  1.28289999e+03  8.58943682e-01  4.64066694e+03\n",
            "   2.19837873e-01  3.12153921e+02  1.72797678e+04  7.88045412e+00\n",
            "   1.24565943e+01  2.18257680e-04  5.55221475e+00 -2.21773094e-01\n",
            "   9.68012622e-01  3.53525344e-03  1.88449816e+03  7.92865731e-01\n",
            "   4.64031269e+03  1.88854053e-01  3.12111875e+02  1.66767526e+04\n",
            "   7.86719366e+00  1.26633200e+01  1.75411538e-04  5.83173623e+00\n",
            "  -1.91713274e-01  9.53485192e-01  4.46353800e-03  1.29282985e+03\n",
            "   8.57990049e-01  4.64095650e+03  2.17335161e-01  3.12132308e+02\n",
            "   1.72709962e+04  7.88384087e+00  1.24634444e+01  2.12274069e-04\n",
            "   5.56666408e+00 -2.20809650e-01  9.68117006e-01  3.55015803e-03\n",
            "   2.09279146e+03  7.70195328e-01  4.64031927e+03  1.88925808e-01\n",
            "   3.12112359e+02  1.64684856e+04  7.86689233e+00  1.26867374e+01\n",
            "   1.75575463e-04  5.88147427e+00 -1.88526749e-01  9.50179727e-01]\n",
            " [ 5.48269123e-03  1.05467324e+03  8.22331397e-01  2.93403395e+03\n",
            "   2.16358823e-01  3.36288371e+02  1.06814625e+04  7.64074096e+00\n",
            "   1.22114599e+01  2.29052832e-04  5.43048136e+00 -2.02902398e-01\n",
            "   9.51739417e-01  4.31227533e-03  1.56844812e+03  7.35743342e-01\n",
            "   2.93352078e+03  1.87752605e-01  3.36257695e+02  1.01656350e+04\n",
            "   7.61001482e+00  1.24137471e+01  1.88006217e-04  5.70872915e+00\n",
            "  -1.72165693e-01  9.30073525e-01  5.50744273e-03  1.07101489e+03\n",
            "   8.19362581e-01  2.93414054e+03  2.15595501e-01  3.36276996e+02\n",
            "   1.06655473e+04  7.63869737e+00  1.22189155e+01  2.24600597e-04\n",
            "   5.44921920e+00 -2.01704516e-01  9.51996918e-01  4.32583872e-03\n",
            "   1.57889471e+03  7.34662667e-01  2.93352012e+03  1.88739841e-01\n",
            "   3.36257586e+02  1.01551858e+04  7.60928561e+00  1.24062094e+01\n",
            "   1.90018094e-04  5.69683068e+00 -1.73414574e-01  9.29721940e-01]]\n"
          ],
          "name": "stdout"
        }
      ]
    },
    {
      "cell_type": "code",
      "metadata": {
        "id": "6d5p82t7dS7e",
        "outputId": "2eb86ba2-f21a-4663-bc39-d39375bb7d8d",
        "colab": {
          "base_uri": "https://localhost:8080/",
          "height": 34
        }
      },
      "source": [
        "print(y_kmeans)"
      ],
      "execution_count": null,
      "outputs": [
        {
          "output_type": "stream",
          "text": [
            "[0 1 1 ... 3 3 0]\n"
          ],
          "name": "stdout"
        }
      ]
    },
    {
      "cell_type": "code",
      "metadata": {
        "id": "emnZ5esTdYBO"
      },
      "source": [
        "path_centroid = \"/content/drive/Shared drives/CCA-AI Slide/Dataset/kmean_centroid/glcm_5_2.txt\"\n",
        "np.savetxt(path_centroid,kmeans.cluster_centers_ , fmt=\"%s\")"
      ],
      "execution_count": null,
      "outputs": []
    }
  ]
}